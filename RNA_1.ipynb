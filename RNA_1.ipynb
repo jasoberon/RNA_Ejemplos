{
  "nbformat": 4,
  "nbformat_minor": 0,
  "metadata": {
    "colab": {
      "provenance": [],
      "authorship_tag": "ABX9TyPZGRvFRQk0Xj0CGj/Y0fI+",
      "include_colab_link": true
    },
    "kernelspec": {
      "name": "python3",
      "display_name": "Python 3"
    },
    "language_info": {
      "name": "python"
    }
  },
  "cells": [
    {
      "cell_type": "markdown",
      "metadata": {
        "id": "view-in-github",
        "colab_type": "text"
      },
      "source": [
        "<a href=\"https://colab.research.google.com/github/jasoberon/RNA_Ejemplos/blob/main/RNA_1.ipynb\" target=\"_parent\"><img src=\"https://colab.research.google.com/assets/colab-badge.svg\" alt=\"Open In Colab\"/></a>"
      ]
    },
    {
      "cell_type": "markdown",
      "source": [
        "# **Creación de una Red Neuronal Artificial con Python**\n",
        "Ejemplo de una neuronal: convertidor de pulgadas a metros\n",
        "\n",
        "https://www.youtube.com/watch?v=cDMoaMnbQUc\n"
      ],
      "metadata": {
        "id": "enNLtNanuQdd"
      }
    },
    {
      "cell_type": "code",
      "execution_count": null,
      "metadata": {
        "id": "i4EaDotMuO9K"
      },
      "outputs": [],
      "source": [
        "#*** Importar librerías ***\n",
        "import tensorflow as tf\n",
        "import numpy as np\n",
        "import matplotlib.pyplot as plt"
      ]
    },
    {
      "cell_type": "markdown",
      "source": [
        "Ahora debemos entregar los eventos pasados, esto es, datos con la información real de la cual va a comparar. En es te caso algunas conversiones de pulgadas a metros. 10 entradas y 10 salidas"
      ],
      "metadata": {
        "id": "O8lS4QVpws9u"
      }
    },
    {
      "cell_type": "code",
      "source": [
        "from numpy.core.multiarray import dtype\n",
        "#*** Decalración de eventos pasados ***\n",
        "entrada = np.array([1, 6, 30, 7, 43, 503, 201, 1005, 99], dtype = float)\n",
        "resultados = np.array([0.0254, 0.1524, 0.762, 0.1778, 1.0922, 12.7762, 5.1054, 25.527, 2.5146], dtype = float)"
      ],
      "metadata": {
        "id": "o_XzpUSzxMRB"
      },
      "execution_count": null,
      "outputs": []
    },
    {
      "cell_type": "markdown",
      "source": [
        "Ahora se agrega la topografía de la red, tipo Densa"
      ],
      "metadata": {
        "id": "2_BfYOPCzZAo"
      }
    },
    {
      "cell_type": "code",
      "source": [
        "#*** Topografía de la red ***\n",
        "capa1 = tf.keras.layers.Dense(units = 1, input_shape = [1])\n",
        "\n",
        "#*** Se crea el tipo de red ***\n",
        "modelo = tf.keras.Sequential([capa1])"
      ],
      "metadata": {
        "id": "xZA7ipeazh-a"
      },
      "execution_count": null,
      "outputs": []
    },
    {
      "cell_type": "markdown",
      "source": [
        "Se agrega el optimizador y métrica de perdidas, esto es, lo que hace que se ajuste al número que al realizar la operación se acerque mas al resultado de los eventos pasados, con pasos de 0.1. Este valor se puede cambiar"
      ],
      "metadata": {
        "id": "YGdU8FYH1QC1"
      }
    },
    {
      "cell_type": "code",
      "source": [
        "#*** Asignación de optimizador y metrica de perdida ***\n",
        "modelo.complie(\n",
        "    optimizer = tf.keras.optimizers.Adam(0.1),\n",
        "    loss = 'mean_squared_error'\n",
        ")"
      ],
      "metadata": {
        "id": "dcSFR9f61fsx"
      },
      "execution_count": null,
      "outputs": []
    },
    {
      "cell_type": "markdown",
      "source": [
        "Imprimimos un anuncio de entrenando a la red"
      ],
      "metadata": {
        "id": "g-FT5ONV2jqu"
      }
    },
    {
      "cell_type": "code",
      "source": [
        "print(\"Entrenando a la Red\")"
      ],
      "metadata": {
        "id": "RsMhShrk2nLI"
      },
      "execution_count": null,
      "outputs": []
    },
    {
      "cell_type": "markdown",
      "source": [
        "Ahora hay que entrenar al modelo. Epoch son las epocas que vienen siendo las interacciones para entrenar. Este se puede modificar"
      ],
      "metadata": {
        "id": "Ocr5Ee5L3ka5"
      }
    },
    {
      "cell_type": "code",
      "source": [
        "#*** Entrenamos al modelo ***\n",
        "entrenamiento = modelo.fit(entrada, resultados, epochs = 500, verbose = False)"
      ],
      "metadata": {
        "id": "e30cWE1n3uy6"
      },
      "execution_count": null,
      "outputs": []
    },
    {
      "cell_type": "markdown",
      "source": [
        "Se puede grabar la Red y los pesos"
      ],
      "metadata": {
        "id": "FNYxG2jq48Ky"
      }
    },
    {
      "cell_type": "code",
      "source": [
        "#*** Guardar la red ***\n",
        "modelo.save('Redneuronal.h5')\n",
        "modelo.save_weights('Pesos.h5')"
      ],
      "metadata": {
        "id": "1oyTgyWt4_L1"
      },
      "execution_count": null,
      "outputs": []
    },
    {
      "cell_type": "markdown",
      "source": [
        "Ahora sigue verificar que la red ya esté entrenada"
      ],
      "metadata": {
        "id": "zKf54dTG53FD"
      }
    },
    {
      "cell_type": "code",
      "source": [
        "print(\"TERMINADO\")"
      ],
      "metadata": {
        "id": "ZJjQ37XX57fz"
      },
      "execution_count": null,
      "outputs": []
    },
    {
      "cell_type": "markdown",
      "source": [
        "Predicciones"
      ],
      "metadata": {
        "id": "OQ38MwQ76Nar"
      }
    },
    {
      "cell_type": "code",
      "source": [
        "i = input(\"Ingresa el valor en pulgadas: \")\n",
        "i = float(i)\n",
        "\n",
        "prediccion = modelo.predict([i])\n",
        "print(\"El valor en metros es: \", str(prediccion))"
      ],
      "metadata": {
        "id": "tMfaAWFX6Pxy"
      },
      "execution_count": null,
      "outputs": []
    },
    {
      "cell_type": "markdown",
      "source": [
        "CODIGO COMPLETO"
      ],
      "metadata": {
        "id": "GEPEKlOy74hj"
      }
    },
    {
      "cell_type": "code",
      "source": [
        "from tensorflow.python.autograph.operators.py_builtins import float_\n",
        "#*** Importar librerías ***\n",
        "import tensorflow as tf\n",
        "import numpy as np\n",
        "import matplotlib.pyplot as plt\n",
        "\n",
        "from numpy.core.multiarray import dtype\n",
        "#*** Decalración de eventos pasados ***\n",
        "entrada = np.array([1, 6, 30, 7, 43, 503, 201, 1005, 99], dtype = float)\n",
        "resultados = np.array([0.0254, 0.1524, 0.762, 0.1778, 1.0922, 12.7762, 5.1054, 25.527, 2.5146], dtype = float)\n",
        "\n",
        "#*** Topografía de la red ***\n",
        "capa1 = tf.keras.layers.Dense(units = 1, input_shape = [1])\n",
        "\n",
        "#*** Se crea el tipo de red ***\n",
        "modelo = tf.keras.Sequential([capa1])\n",
        "\n",
        "#*** Asignación de optimizador y metrica de perdida ***\n",
        "modelo.compile(\n",
        "    optimizer = tf.keras.optimizers.Adam(0.1),\n",
        "    loss = 'mean_squared_error'\n",
        ")\n",
        "\n",
        "print(\"Entrenando a la Red\")\n",
        "\n",
        "#*** Entrenamos al modelo ***\n",
        "entrenamiento = modelo.fit(entrada, resultados, epochs = 500, verbose = False)\n",
        "\n",
        "#*** Guardar la red ***\n",
        "#modelo.save('Redneuronal.h5')\n",
        "#modelo.save_weights('Pesos.h5')\n",
        "\n",
        "#OBSERVAR EL COMPORTAMIENTO DE LA RED\n",
        "plt.xlabel(\"Ciclos de entrenamento EPOCH\")\n",
        "plt.ylabel(\"Errores\")\n",
        "plt.plot(entrenamiento.history[\"loss\"])\n",
        "plt.show()\n",
        "\n",
        "print(\"TERMINADO\")\n",
        "\n",
        "i = input(\"Ingresa el valor en pulgadas: \")\n",
        "i = float(i)\n",
        "\n",
        "prediccion = modelo.predict([i])\n",
        "print(\"El valor en metros es: \", str(prediccion))\n"
      ],
      "metadata": {
        "id": "t48layrT77tV"
      },
      "execution_count": null,
      "outputs": []
    }
  ]
}