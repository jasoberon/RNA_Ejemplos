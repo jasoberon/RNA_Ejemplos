from tensorflow.python.autograph.operators.py_builtins import float_
#*** Importar librerías ***
import tensorflow as tf
import numpy as np
import matplotlib.pyplot as plt

from numpy.core.multiarray import dtype
#*** Decalración de eventos pasados ***
entrada = np.array([1, 6, 30, 7, 43, 503, 201, 1005, 99], dtype = float)
resultados = np.array([0.0254, 0.1524, 0.762, 0.1778, 1.0922, 12.7762, 5.1054, 25.527, 2.5146], dtype = float)

#*** Topografía de la red ***
capa1 = tf.keras.layers.Dense(units = 1, input_shape = [1])

#*** Se crea el tipo de red ***
modelo = tf.keras.Sequential([capa1])

#*** Asignación de optimizador y metrica de perdida ***
modelo.compile(
    optimizer = tf.keras.optimizers.Adam(0.1),
    loss = 'mean_squared_error'
)

print("Entrenando a la Red")

#*** Entrenamos al modelo ***
entrenamiento = modelo.fit(entrada, resultados, epochs = 500, verbose = False)

#*** Guardar la red ***
#modelo.save('Redneuronal.h5')
#modelo.save_weights('Pesos.h5')

#OBSERVAR EL COMPORTAMIENTO DE LA RED
plt.xlabel("Ciclos de entrenamento EPOCH")
plt.ylabel("Errores")
plt.plot(entrenamiento.history["loss"])
plt.show()

print("TERMINADO")

i = input("Ingresa el valor en pulgadas: ")
i = float(i)

prediccion = modelo.predict([i])
print("El valor en metros es: ", str(prediccion))
