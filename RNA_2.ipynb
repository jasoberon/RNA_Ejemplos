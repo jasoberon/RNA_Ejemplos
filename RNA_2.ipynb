{
  "nbformat": 4,
  "nbformat_minor": 0,
  "metadata": {
    "colab": {
      "provenance": [],
      "authorship_tag": "ABX9TyO/CtIShLUbumPwJe6zP1tu",
      "include_colab_link": true
    },
    "kernelspec": {
      "name": "python3",
      "display_name": "Python 3"
    },
    "language_info": {
      "name": "python"
    }
  },
  "cells": [
    {
      "cell_type": "markdown",
      "metadata": {
        "id": "view-in-github",
        "colab_type": "text"
      },
      "source": [
        "<a href=\"https://colab.research.google.com/github/jasoberon/RNA_Ejemplos/blob/main/RNA_2.ipynb\" target=\"_parent\"><img src=\"https://colab.research.google.com/assets/colab-badge.svg\" alt=\"Open In Colab\"/></a>"
      ]
    },
    {
      "cell_type": "markdown",
      "source": [
        "EJEMPLO DE RNA\n",
        "\n",
        "https://www.youtube.com/watch?v=iX_on3VxZzk&t=328s\n"
      ],
      "metadata": {
        "id": "9OHo7eHcgk8T"
      }
    },
    {
      "cell_type": "code",
      "execution_count": 20,
      "metadata": {
        "id": "XO-P7thNgj2M"
      },
      "outputs": [],
      "source": [
        "import tensorflow as tf\n",
        "import numpy as np"
      ]
    },
    {
      "cell_type": "code",
      "source": [
        "celsius = np.array([-40, -10, 0, 8, 15, 22, 38],dtype = float)\n",
        "fahrenheit = np.array([-40, 14, 32, 46, 59, 72, 100], dtype = float)"
      ],
      "metadata": {
        "id": "LI7by-XPtwjw"
      },
      "execution_count": 36,
      "outputs": []
    },
    {
      "cell_type": "markdown",
      "source": [
        "Aquí se puede modificar el número de capas y neuronas"
      ],
      "metadata": {
        "id": "7vDgExp74msK"
      }
    },
    {
      "cell_type": "code",
      "source": [
        "# ****** UNA CAPA\n",
        "#capa = tf.keras.layers.Dense(units=1, input_shape=[1])\n",
        "#modelo = tf.keras.Sequential([capa])\n",
        "\n",
        "#***2 capas intermedias con 3 neuronas ******\n",
        "oculta1 = tf.keras.layers.Dense(units=3, input_shape=[1])\n",
        "oculta2 = tf.keras.layers.Dense(units=3)\n",
        "salida = tf.keras.layers.Dense(units=1)\n",
        "modelo = tf.keras.Sequential([oculta1, oculta2, salida])"
      ],
      "metadata": {
        "id": "ApkwKUlTuarY"
      },
      "execution_count": 37,
      "outputs": []
    },
    {
      "cell_type": "code",
      "source": [
        "modelo.compile(\n",
        "    optimizer=tf.keras.optimizers.Adam(0.1),\n",
        "    loss='mean_squared_error'\n",
        ")"
      ],
      "metadata": {
        "id": "Aw05zbtouzYr"
      },
      "execution_count": 38,
      "outputs": []
    },
    {
      "cell_type": "code",
      "source": [
        "print(\"Comenzando entrenamiento...\")\n",
        "historial = modelo.fit(celsius, fahrenheit, epochs=1000, verbose=False)\n",
        "print(\"Modelo entrenado\")"
      ],
      "metadata": {
        "colab": {
          "base_uri": "https://localhost:8080/",
          "height": 0
        },
        "id": "Oudu3g7zvQX7",
        "outputId": "dc8bafea-346f-4a62-976b-582050c11502"
      },
      "execution_count": 39,
      "outputs": [
        {
          "output_type": "stream",
          "name": "stdout",
          "text": [
            "Comenzando entrenamiento...\n",
            "Modelo entrenado\n"
          ]
        }
      ]
    },
    {
      "cell_type": "code",
      "source": [
        "# mostrar los errores en cada vuelta\n",
        "import matplotlib.pyplot as plt\n",
        "plt.xlabel(\"Epoca\")\n",
        "plt.ylabel(\"Magnitud de pérdida\")\n",
        "plt.plot(historial.history[\"loss\"])"
      ],
      "metadata": {
        "colab": {
          "base_uri": "https://localhost:8080/",
          "height": 466
        },
        "id": "K2KHKMhCwc6w",
        "outputId": "5830c72f-8240-4492-ec97-f1297e372d7f"
      },
      "execution_count": 40,
      "outputs": [
        {
          "output_type": "execute_result",
          "data": {
            "text/plain": [
              "[<matplotlib.lines.Line2D at 0x79f5081c9870>]"
            ]
          },
          "metadata": {},
          "execution_count": 40
        },
        {
          "output_type": "display_data",
          "data": {
            "text/plain": [
              "<Figure size 640x480 with 1 Axes>"
            ],
            "image/png": "[encoded data removed]"
          },
          "metadata": {}
        }
      ]
    },
    {
      "cell_type": "markdown",
      "source": [
        "A continuación se muestra como hacer la predicción"
      ],
      "metadata": {
        "id": "r9zp7g421C-5"
      }
    },
    {
      "cell_type": "code",
      "source": [
        "print(\"Hagamos una predicció!\")\n",
        "resultado = modelo.predict([-2])\n",
        "print(\"El resultado es \" + str(resultado) + \" fahrenheit!\")"
      ],
      "metadata": {
        "colab": {
          "base_uri": "https://localhost:8080/",
          "height": 0
        },
        "id": "kXJmU0uW1nYS",
        "outputId": "d6a9ce05-e883-444c-91d2-5de408cd64ca"
      },
      "execution_count": 44,
      "outputs": [
        {
          "output_type": "stream",
          "name": "stdout",
          "text": [
            "Hagamos una predicció!\n",
            "1/1 [==============================] - 0s 210ms/step\n",
            "El resultado es [[28.356627]] fahrenheit!\n"
          ]
        }
      ]
    },
    {
      "cell_type": "markdown",
      "source": [
        "Códigos para mostrar los valores asignados en el entrenamiento una capa una neurona"
      ],
      "metadata": {
        "id": "n-QsSoEf7mbb"
      }
    },
    {
      "cell_type": "code",
      "source": [
        "#print(\"Variables internas del modelo\")\n",
        "#print(capa.get_weights())"
      ],
      "metadata": {
        "id": "OMfSBjDP7s8T"
      },
      "execution_count": null,
      "outputs": []
    },
    {
      "cell_type": "markdown",
      "source": [
        "Códigos para mostrar los valores asignados en el entrenamiento, dos capas, 3 neuronas"
      ],
      "metadata": {
        "id": "0MRE7VYw8DD_"
      }
    },
    {
      "cell_type": "code",
      "source": [
        "print(\"Variables internas del modelo\")\n",
        "print(oculta1.get_weights())\n",
        "print(oculta2.get_weights())\n",
        "print(salida.get_weights())"
      ],
      "metadata": {
        "colab": {
          "base_uri": "https://localhost:8080/",
          "height": 0
        },
        "id": "g-MKOfIr8L54",
        "outputId": "fcfb7c74-4058-4879-e816-b1238a2e2b7a"
      },
      "execution_count": 45,
      "outputs": [
        {
          "output_type": "stream",
          "name": "stdout",
          "text": [
            "Variables internas del modelo\n",
            "[array([[-0.43280482,  0.12072837, -0.3588008 ]], dtype=float32), array([-4.3090515,  1.0393101, -4.2874207], dtype=float32)]\n",
            "[array([[ 0.17430367,  1.2805061 , -0.20287316],\n",
            "       [-0.97156733, -0.30951044,  0.46691948],\n",
            "       [-0.29358128,  1.4077747 , -0.23088668]], dtype=float32), array([ 1.5015315, -4.209618 , -2.9446418], dtype=float32)]\n",
            "[array([[ 0.21448171],\n",
            "       [-1.711371  ],\n",
            "       [-0.26492673]], dtype=float32), array([4.0534387], dtype=float32)]\n"
          ]
        }
      ]
    }
  ]
}